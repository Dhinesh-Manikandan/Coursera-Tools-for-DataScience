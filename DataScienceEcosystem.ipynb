{
 "cells": [
  {
   "cell_type": "markdown",
   "id": "986fa566-84b9-4493-9a3e-90a62aac4038",
   "metadata": {},
   "source": [
    "# Data Science Tools and Ecosystem"
   ]
  },
  {
   "cell_type": "markdown",
   "id": "59af6789-c979-4fd7-8064-c0ecfd7f6fa7",
   "metadata": {},
   "source": [
    "## Introduction\n",
    "\n",
    "#### In this notebook, Data Science Tools and Ecosystem are summarized."
   ]
  },
  {
   "cell_type": "markdown",
   "id": "26897a4d-7666-41bb-bc16-fc6c4b064feb",
   "metadata": {},
   "source": [
    "__Objectives:__\n",
    "\n",
    "* List popular languages for Data Science\n",
    "* List commonly used libraries used by Data Scientists\n",
    "* List the Data Science Tools\n",
    "* List one simple arithmetic example\n",
    "* Code to convert 200 minutes to hours\n"
   ]
  },
  {
   "cell_type": "markdown",
   "id": "e80dbb53-bf2a-4aec-88b2-77ee6ee8ff5d",
   "metadata": {},
   "source": [
    "_Some of the popular languages that Data Scientists use are:_\n",
    "\n",
    "1. Python\n",
    "2. R\n",
    "3. Scala\n",
    "4. SQL\n",
    "5. Julia "
   ]
  },
  {
   "cell_type": "markdown",
   "id": "83532e1e-622e-45c7-afb4-a33e5b43e36f",
   "metadata": {},
   "source": [
    "_Some of the commonly used libraries used by Data Scientists include:_\n",
    "\n",
    "1. pandas\n",
    "2. numpy\n",
    "3. seaborn\n",
    "4. matplotlib\n",
    "5. scikit-learn"
   ]
  },
  {
   "cell_type": "markdown",
   "id": "700effbd-9348-4e97-9b0e-ad2132b6cbf2",
   "metadata": {},
   "source": [
    "| Data Science Tools |\n",
    "|----------------------|\n",
    "|    Jupyter         |\n",
    "|  RStudio |\n",
    "| Visual Studio Code |"
   ]
  },
  {
   "cell_type": "markdown",
   "id": "1c7a5637-78f7-459b-920f-6615cb0ceab3",
   "metadata": {},
   "source": [
    "### Below are a few examples of evaluating arithmetic expressions in Python."
   ]
  },
  {
   "cell_type": "code",
   "execution_count": 45,
   "id": "8c281558-b832-4d9f-b31e-0529f565036b",
   "metadata": {},
   "outputs": [
    {
     "data": {
      "text/plain": [
       "17"
      ]
     },
     "execution_count": 45,
     "metadata": {},
     "output_type": "execute_result"
    }
   ],
   "source": [
    "# This a simple arithmetic expression to mutiply then add integers\n",
    "(3*4)+5"
   ]
  },
  {
   "cell_type": "code",
   "execution_count": 57,
   "id": "5c5f8514-8fd1-4122-92bb-5318d4881e10",
   "metadata": {},
   "outputs": [
    {
     "name": "stdout",
     "output_type": "stream",
     "text": [
      "3.33  hours approximately\n"
     ]
    }
   ],
   "source": [
    "# This will convert 200 minutes to hours by diving by 60\n",
    "print(f\"{200/60:.2f}  hours approximately\")"
   ]
  },
  {
   "cell_type": "markdown",
   "id": "2c392073-a00b-49e6-8474-9317a2323735",
   "metadata": {},
   "source": [
    "## Author\n",
    "Dhinesh Babu C M"
   ]
  }
 ],
 "metadata": {
  "kernelspec": {
   "display_name": "Python 3 (ipykernel)",
   "language": "python",
   "name": "python3"
  },
  "language_info": {
   "codemirror_mode": {
    "name": "ipython",
    "version": 3
   },
   "file_extension": ".py",
   "mimetype": "text/x-python",
   "name": "python",
   "nbconvert_exporter": "python",
   "pygments_lexer": "ipython3",
   "version": "3.12.4"
  }
 },
 "nbformat": 4,
 "nbformat_minor": 5
}
